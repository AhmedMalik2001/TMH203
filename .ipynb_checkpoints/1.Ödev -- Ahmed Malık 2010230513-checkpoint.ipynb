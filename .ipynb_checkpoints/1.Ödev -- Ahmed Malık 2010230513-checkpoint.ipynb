{
 "cells": [
  {
   "cell_type": "markdown",
   "id": "0a2a326c",
   "metadata": {},
   "source": [
    "# Birinci Denklem: Newton'un İkinci Yasası ve Dairesel Hareket\n",
    "Bu yasası kavisli yolların üzerindeki geçen araçlar Devrilmeden sürülebilecek maksimum hızı hesaplanır\n",
    "<br>\n",
    "* Denklem : \n",
    "Ff=N*μ ve Fc=m*v^2/r\n",
    "* Ff=sürtünme kuvvet\n",
    "* N=Normal kuvvet=m*g\n",
    "* μ=sürtünme katsayısı\n",
    "* Fc= Merkezkaç kuvvet \n",
    "* v= hız\n",
    "* r= yolun yarıçapı \n",
    "<br>\n",
    "arabay devrilmemek için bu iki denkelm birbirine eşit olmalı:\n",
    "<br>\n",
    "N*μ=m*v^2/r \n",
    "<br>\n",
    "sadeleştirdikten sonra iki durum iki tane denklem elde ederiz. \n",
    "<br>\n",
    "* yol ile yatay ekseni arasında açı yokken :\n",
    "<br>\n",
    "vmax=sqrt(r*g*μ)\n",
    "* yol ile yatay ekseni arasında açı varken :\n",
    "<br>\n",
    "vmax=sqrt((r*g*(special.tandg(theta)+μ))/(1+μ*special.tandg(theta)))"
   ]
  },
  {
   "cell_type": "code",
   "execution_count": 1,
   "id": "c69821ce",
   "metadata": {},
   "outputs": [
    {
     "name": "stdout",
     "output_type": "stream",
     "text": [
      "Dairesel yolun yarıçapı giriniz (Metre cinsinde): 5\n",
      "Aracın kütlesi giriniz(Kg cinsinde): 15\n",
      "sürtünme katsayısını giriniz: 541\n",
      "yol ile yatay ekseni arasında açıyı giriniz: 541\n",
      "Bu yolda sürebileceğiniz maksimum hız = 50.38 m/sec\n"
     ]
    }
   ],
   "source": [
    "from scipy import special\n",
    "import math\n",
    "g=9.8\n",
    "r=float(input(\"Dairesel yolun yarıçapı giriniz (Metre cinsinde): \"))\n",
    "m=float(input(\"Aracın kütlesi giriniz(Kg cinsinde): \"))\n",
    "μ=float(input(\"sürtünme katsayısını giriniz: \"))\n",
    "theta=float(input(\"yol ile yatay ekseni arasında açıyı giriniz: \"))\n",
    "if theta==0:\n",
    "    vmax=math.sqrt(r*g*μ)\n",
    "    print(\"Bu yolda sürebileceğiniz maksimum hız =\",round(vmax,2),\"m/sec\")\n",
    "else:\n",
    "    vmax=math.sqrt((r*g*(special.tandg(theta)+μ))/(1+μ*special.tandg(theta)))\n",
    "    print(\"Bu yolda sürebileceğiniz maksimum hız =\",round(vmax,2),\"m/sec\")"
   ]
  },
  {
   "cell_type": "markdown",
   "id": "c77f96d3",
   "metadata": {},
   "source": [
    "# İkinci Denklem: Topçu - Hedef vurma denklemi(2 boyutlu hareket)\n",
    "* iki boyutlu hareket yasalarında 5 tane denklemimiz var. bunlardan sadece 2 tane denklem topçu durumuna sağlar.\n",
    "* Bu denklemler : \n",
    "<br>\n",
    "**y= yi+viy*t+0.5*g*t^2  \"ve\" \n",
    "<br>\n",
    "x=vix*t\n",
    "* y  : hedefin son yüksekliği\n",
    "* yi : hedefin ilk yüksekliği\n",
    "* x  : Topçu ile hedefin arasındaki yatay mesafe\n",
    "* viy: y eksenide ilk hız\n",
    "* vix: x eksenide ilk hız\n",
    "* g  : yerçekimi kuvveti\n",
    "* t  : zaman\n"
   ]
  },
  {
   "cell_type": "code",
   "execution_count": 17,
   "id": "1679e5e7",
   "metadata": {},
   "outputs": [
    {
     "name": "stdout",
     "output_type": "stream",
     "text": [
      " yapmak istediğiniz işlemler\n",
      "(1) Topçu mermisi ilk hız hesaplama (vi)\n",
      "(2) hedefin yüksekliği (y)\n",
      "\n",
      "yapmak istediğiniz işlem seçiniz: 2\n",
      "Topçu mermesinin ilk hızı giriniz: 20\n",
      "Topçu ile hedefin arasındaki yatay mesafeyi giriniz: 30\n",
      "Topçu ile yatay ekseni arasındaki açı giriniz (derece cinsinden): 45\n",
      "hedefin ilk yüksekliği giriniz: 0\n",
      "Hedef vurmak için hedef yüksekliğini= 7.95 m olmalıdır\n"
     ]
    }
   ],
   "source": [
    "giris=print(''' yapmak istediğiniz işlemler\n",
    "(1) Topçu mermisi ilk hız hesaplama (vi)\n",
    "(2) hedefin yüksekliği (y)\n",
    "''' )\n",
    "i=input(\"yapmak istediğiniz işlem seçiniz: \")\n",
    "g=-9.8 \n",
    "import math\n",
    "from scipy import special\n",
    "if i==\"1\":\n",
    "    theta=int(input(\"Topçu ile yatay ekseni arasındaki açı giriniz (derece cinsinden): \"))\n",
    "    x=int(input(\"Topçu ile hedefin arasındaki yatay mesafeyi giriniz: \"))\n",
    "    yi=int(input(\"hedefin ilk yüksekliği giriniz: \"))\n",
    "    y=int(input(\"Hedefin son yüksekliğini giriniz: \"))\n",
    "    # genel denklemler sadeleştirdikten sonra vi bulmak için şu denklem elde ederiz\n",
    "    vi=math.sqrt(((x**2)*g)/(2*(y-yi-x*special.tandg(theta))*(special.cosdg(theta)**2) ) ) \n",
    "    print(\"Hedef vurmak için Topçu mermisi ilk hızı=\",round(vi,2),\"m/s olmalıdır\")\n",
    "elif i==\"2\":\n",
    "    vi=int(input(\"Topçu mermesinin ilk hızı giriniz: \"))\n",
    "    x=int(input(\"Topçu ile hedefin arasındaki yatay mesafeyi giriniz: \"))\n",
    "    theta=int(input(\"Topçu ile yatay ekseni arasındaki açı giriniz (derece cinsinden): \"))\n",
    "    yi=int(input(\"hedefin ilk yüksekliği giriniz: \"))\n",
    "    t= (x)/(vi*special.cosdg(theta))\n",
    "    y= yi+vi*special.sindg(theta)*t+0.5*g*t**2 # genel denklemler sadeleştirdikten sonra y bulmak için şu denklem elde ederiz\n",
    "    print(\"Hedef vurmak için hedef yüksekliğini=\",round(y,2),\"m olmalıdır\")\n",
    "else : \n",
    "    print(\"Lütfen doğru bir işlem seçiniz\")\n",
    "    "
   ]
  },
  {
   "cell_type": "markdown",
   "id": "4bac5435",
   "metadata": {},
   "source": [
    "# Üçüncü denklem: termodinamik - iletim ısı transferi\n",
    "\n"
   ]
  },
  {
   "cell_type": "code",
   "execution_count": 86,
   "id": "b9070d81",
   "metadata": {},
   "outputs": [
    {
     "name": "stdout",
     "output_type": "stream",
     "text": [
      "Dikkat!\n",
      "birimler:\n",
      "sıcaklık ---> celsius cinsinden\n",
      "uzunluk  ---> metre cinsinden\n",
      "Alan     ---> metre kare cinsinden\n",
      "\n",
      "1. sıcaklık giriniz: 100\n",
      "2. sıcaklık giriniz: 0\n",
      "iletkenlik sabiti giriniz: 397\n",
      "iletkenliğinin uzunluğu giriniz: 0.8\n",
      "iletkenliğinin kesit alanı giriniz: 0.02\n",
      "iletkenlik üzerinden geçen ısı miktarı Q/t= 992.5 W (J/sec)\n"
     ]
    }
   ],
   "source": [
    "d=print('''Dikkat!\n",
    "birimler:\n",
    "sıcaklık ---> celsius cinsinden\n",
    "uzunluk  ---> metre cinsinden\n",
    "Alan     ---> metre kare cinsinden\n",
    "''')\n",
    "T1=float(input(\"1. sıcaklık giriniz: \"))\n",
    "T2=float(input(\"2. sıcaklık giriniz: \"))\n",
    "K=float(input(\"iletkenlik sabiti giriniz: \"))\n",
    "L=float(input(\"iletkenliğinin uzunluğu giriniz: \"))\n",
    "A=float(input(\"iletkenliğinin kesit alanı giriniz: \"))\n",
    "if T1 > T2:\n",
    "    im= (K*A*(T1-T2))/L\n",
    "    print(\"iletkenlik üzerinden geçen ısı miktarı Q/t=\",im,\"W (J/sec)\")\n",
    "elif T2 > T1: \n",
    "    im= (K*A*(T2-T1))/L\n",
    "    print(\"iletkenlik üzerinden geçen ısı miktarı Q/t=\",im,\"W (J/sec)\")\n",
    "else:\n",
    "    print(\"iletkenlik üzerinden geçen ısı miktarı sıfırdır\")"
   ]
  }
 ],
 "metadata": {
  "kernelspec": {
   "display_name": "Python 3 (ipykernel)",
   "language": "python",
   "name": "python3"
  },
  "language_info": {
   "codemirror_mode": {
    "name": "ipython",
    "version": 3
   },
   "file_extension": ".py",
   "mimetype": "text/x-python",
   "name": "python",
   "nbconvert_exporter": "python",
   "pygments_lexer": "ipython3",
   "version": "3.9.12"
  }
 },
 "nbformat": 4,
 "nbformat_minor": 5
}
